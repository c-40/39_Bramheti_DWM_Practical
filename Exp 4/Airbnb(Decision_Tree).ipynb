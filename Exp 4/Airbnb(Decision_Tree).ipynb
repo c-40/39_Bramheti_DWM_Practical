{
  "nbformat": 4,
  "nbformat_minor": 0,
  "metadata": {
    "colab": {
      "provenance": []
    },
    "kernelspec": {
      "name": "python3",
      "display_name": "Python 3"
    },
    "language_info": {
      "name": "python"
    }
  },
  "cells": [
    {
      "cell_type": "code",
      "execution_count": 52,
      "metadata": {
        "id": "2zWRh5Rsk4E3"
      },
      "outputs": [],
      "source": [
        "import numpy as np\n",
        "import matplotlib.pyplot as plt\n",
        "import pandas as pd"
      ]
    },
    {
      "cell_type": "code",
      "source": [
        "dataset=pd.read_csv(\"airbnb_decision.csv\")"
      ],
      "metadata": {
        "id": "dxcTL4HhmOFI"
      },
      "execution_count": 53,
      "outputs": []
    },
    {
      "cell_type": "code",
      "source": [
        "print(dataset)"
      ],
      "metadata": {
        "colab": {
          "base_uri": "https://localhost:8080/"
        },
        "id": "mv6p0dZMoujX",
        "outputId": "9988f507-c369-4971-e46b-b9f429072723"
      },
      "execution_count": 54,
      "outputs": [
        {
          "output_type": "stream",
          "name": "stdout",
          "text": [
            "             id   host_id neighbourhood_group  latitude  longitude  price  \\\n",
            "0          2539      2787            Brooklyn  40.64749  -73.97237    149   \n",
            "1          2595      2845           Manhattan  40.75362  -73.98377    225   \n",
            "2          3647      4632           Manhattan  40.80902  -73.94190    150   \n",
            "3          3831      4869            Brooklyn  40.68514  -73.95976     89   \n",
            "4          5022      7192           Manhattan  40.79851  -73.94399     80   \n",
            "...         ...       ...                 ...       ...        ...    ...   \n",
            "48890  36484665   8232441            Brooklyn  40.67853  -73.94995     70   \n",
            "48891  36485057   6570630            Brooklyn  40.70184  -73.93317     40   \n",
            "48892  36485431  23492952           Manhattan  40.81475  -73.94867    115   \n",
            "48893  36485609  30985759           Manhattan  40.75751  -73.99112     55   \n",
            "48894  36487245  68119814           Manhattan  40.76404  -73.98933     90   \n",
            "\n",
            "       minimum_nights  number_of_reviews  reviews_per_month  \\\n",
            "0                   1                  9               0.21   \n",
            "1                   1                 45               0.38   \n",
            "2                   3                  0                NaN   \n",
            "3                   1                270               4.64   \n",
            "4                  10                  9               0.10   \n",
            "...               ...                ...                ...   \n",
            "48890               2                  0                NaN   \n",
            "48891               4                  0                NaN   \n",
            "48892              10                  0                NaN   \n",
            "48893               1                  0                NaN   \n",
            "48894               7                  0                NaN   \n",
            "\n",
            "       calculated_host_listings_count  availability_365 DECISION  \n",
            "0                                   6               365      Yes  \n",
            "1                                   2               355       No  \n",
            "2                                   1               365      Yes  \n",
            "3                                   1               194       No  \n",
            "4                                   1                 0       No  \n",
            "...                               ...               ...      ...  \n",
            "48890                               2                 9       No  \n",
            "48891                               2                36       No  \n",
            "48892                               1                27      Yes  \n",
            "48893                               6                 2      Yes  \n",
            "48894                               1                23       No  \n",
            "\n",
            "[48895 rows x 12 columns]\n"
          ]
        }
      ]
    },
    {
      "cell_type": "code",
      "source": [
        "x=dataset.iloc[:,:-1].values\n",
        "y=dataset.iloc[:,-1].values\n",
        "print(x)\n",
        "print(y)"
      ],
      "metadata": {
        "colab": {
          "base_uri": "https://localhost:8080/"
        },
        "id": "wGmwAzOZmRSA",
        "outputId": "992fa3c4-3b58-4ca6-92a1-0326e80cb24d"
      },
      "execution_count": 55,
      "outputs": [
        {
          "output_type": "stream",
          "name": "stdout",
          "text": [
            "[[2539 2787 'Brooklyn' ... 0.21 6 365]\n",
            " [2595 2845 'Manhattan' ... 0.38 2 355]\n",
            " [3647 4632 'Manhattan' ... nan 1 365]\n",
            " ...\n",
            " [36485431 23492952 'Manhattan' ... nan 1 27]\n",
            " [36485609 30985759 'Manhattan' ... nan 6 2]\n",
            " [36487245 68119814 'Manhattan' ... nan 1 23]]\n",
            "['Yes' 'No' 'Yes' ... 'Yes' 'Yes' 'No']\n"
          ]
        }
      ]
    },
    {
      "cell_type": "code",
      "source": [
        "from sklearn.impute import SimpleImputer\n",
        "import numpy as np\n",
        "imputer = SimpleImputer(missing_values=np.nan, strategy=\"mean\")\n",
        "imputer.fit(x[:,5:11])\n",
        "x[:,5:11] = imputer.transform(x[:, 5:11])"
      ],
      "metadata": {
        "id": "9ZxMkROunuq4"
      },
      "execution_count": 56,
      "outputs": []
    },
    {
      "cell_type": "code",
      "source": [
        "print(x)"
      ],
      "metadata": {
        "colab": {
          "base_uri": "https://localhost:8080/"
        },
        "id": "wQERjbSnnxXI",
        "outputId": "0962fa34-06b8-45e9-9819-5119d3393903"
      },
      "execution_count": 57,
      "outputs": [
        {
          "output_type": "stream",
          "name": "stdout",
          "text": [
            "[[2539 2787 'Brooklyn' ... 0.21 6.0 365.0]\n",
            " [2595 2845 'Manhattan' ... 0.38 2.0 355.0]\n",
            " [3647 4632 'Manhattan' ... 1.3732214298586618 1.0 365.0]\n",
            " ...\n",
            " [36485431 23492952 'Manhattan' ... 1.3732214298586618 1.0 27.0]\n",
            " [36485609 30985759 'Manhattan' ... 1.3732214298586618 6.0 2.0]\n",
            " [36487245 68119814 'Manhattan' ... 1.3732214298586618 1.0 23.0]]\n"
          ]
        }
      ]
    },
    {
      "cell_type": "code",
      "execution_count": 58,
      "metadata": {
        "id": "aF3Wfe45y3gN"
      },
      "outputs": [],
      "source": [
        "from sklearn.preprocessing import LabelEncoder\n",
        "le = LabelEncoder()\n",
        "y = np.array(le.fit_transform(y))\n"
      ]
    },
    {
      "cell_type": "code",
      "source": [
        "print(y)"
      ],
      "metadata": {
        "colab": {
          "base_uri": "https://localhost:8080/"
        },
        "id": "8kAK2x19UKLS",
        "outputId": "3be9637a-96c8-41fc-ec7d-a4f1f3544609"
      },
      "execution_count": 59,
      "outputs": [
        {
          "output_type": "stream",
          "name": "stdout",
          "text": [
            "[1 0 1 ... 1 1 0]\n"
          ]
        }
      ]
    },
    {
      "cell_type": "code",
      "source": [
        "from sklearn.compose import ColumnTransformer\n",
        "from sklearn.preprocessing import OneHotEncoder\n",
        "ct = ColumnTransformer(transformers=[('encoder', OneHotEncoder(), [2])], remainder='passthrough')\n",
        "x = np.array(ct.fit_transform(x))"
      ],
      "metadata": {
        "id": "lF7tQnlvnkoo"
      },
      "execution_count": 60,
      "outputs": []
    },
    {
      "cell_type": "code",
      "source": [
        "print(x)"
      ],
      "metadata": {
        "colab": {
          "base_uri": "https://localhost:8080/"
        },
        "id": "D_m-FKBtnlTA",
        "outputId": "6049f813-523e-4194-f42b-429343d02121"
      },
      "execution_count": 61,
      "outputs": [
        {
          "output_type": "stream",
          "name": "stdout",
          "text": [
            "[[0.0 1.0 0.0 ... 0.21 6.0 365.0]\n",
            " [0.0 0.0 1.0 ... 0.38 2.0 355.0]\n",
            " [0.0 0.0 1.0 ... 1.3732214298586618 1.0 365.0]\n",
            " ...\n",
            " [0.0 0.0 1.0 ... 1.3732214298586618 1.0 27.0]\n",
            " [0.0 0.0 1.0 ... 1.3732214298586618 6.0 2.0]\n",
            " [0.0 0.0 1.0 ... 1.3732214298586618 1.0 23.0]]\n"
          ]
        }
      ]
    },
    {
      "cell_type": "code",
      "source": [
        "from sklearn.model_selection import train_test_split\n",
        "x_train, x_test, y_train, y_test = train_test_split(x, y, test_size = 0.2, random_state = 1)\n"
      ],
      "metadata": {
        "id": "lUOoFm2Fmbm3"
      },
      "execution_count": 62,
      "outputs": []
    },
    {
      "cell_type": "code",
      "source": [
        "print(x_train)"
      ],
      "metadata": {
        "colab": {
          "base_uri": "https://localhost:8080/"
        },
        "id": "6LQviPZFmff2",
        "outputId": "a490e9a7-2ab1-4611-e46a-2b6d8d3cd033"
      },
      "execution_count": 63,
      "outputs": [
        {
          "output_type": "stream",
          "name": "stdout",
          "text": [
            "[[0.0 0.0 1.0 ... 4.07 2.0 238.0]\n",
            " [0.0 0.0 1.0 ... 1.3732214298586618 1.0 317.0]\n",
            " [0.0 0.0 0.0 ... 1.3732214298586618 3.0 365.0]\n",
            " ...\n",
            " [0.0 1.0 0.0 ... 1.31 1.0 8.0]\n",
            " [0.0 1.0 0.0 ... 2.03 1.0 327.0]\n",
            " [0.0 1.0 0.0 ... 4.65 3.0 342.0]]\n"
          ]
        }
      ]
    },
    {
      "cell_type": "code",
      "source": [
        "print(y_train)"
      ],
      "metadata": {
        "colab": {
          "base_uri": "https://localhost:8080/"
        },
        "id": "4dbQZJn5mkC3",
        "outputId": "4adcf063-ef0e-4bf5-cac5-7ea3c0ea3359"
      },
      "execution_count": 64,
      "outputs": [
        {
          "output_type": "stream",
          "name": "stdout",
          "text": [
            "[1 1 0 ... 1 1 1]\n"
          ]
        }
      ]
    },
    {
      "cell_type": "code",
      "source": [
        "print(x_test)"
      ],
      "metadata": {
        "colab": {
          "base_uri": "https://localhost:8080/"
        },
        "id": "t32iZY6SmmJ4",
        "outputId": "b43078a7-20ca-4d70-809f-899634019506"
      },
      "execution_count": 65,
      "outputs": [
        {
          "output_type": "stream",
          "name": "stdout",
          "text": [
            "[[0.0 0.0 0.0 ... 1.3732214298586618 2.0 66.0]\n",
            " [0.0 0.0 0.0 ... 1.3732214298586618 1.0 282.0]\n",
            " [0.0 1.0 0.0 ... 2.15 1.0 0.0]\n",
            " ...\n",
            " [0.0 1.0 0.0 ... 2.69 2.0 136.0]\n",
            " [0.0 1.0 0.0 ... 1.12 2.0 77.0]\n",
            " [0.0 0.0 0.0 ... 0.5 103.0 269.0]]\n"
          ]
        }
      ]
    },
    {
      "cell_type": "code",
      "source": [
        "print(y_test)"
      ],
      "metadata": {
        "colab": {
          "base_uri": "https://localhost:8080/"
        },
        "id": "jiEKZzZxmpXI",
        "outputId": "a61537fe-e2b0-4f13-8c0a-721a66c8e64f"
      },
      "execution_count": 37,
      "outputs": [
        {
          "output_type": "stream",
          "name": "stdout",
          "text": [
            "[1 0 0 ... 1 1 0]\n"
          ]
        }
      ]
    },
    {
      "cell_type": "code",
      "source": [
        "from sklearn.preprocessing import StandardScaler\n",
        "sc = StandardScaler()\n",
        "x_train = sc.fit_transform(x_train)\n",
        "x_test = sc.transform(x_test)"
      ],
      "metadata": {
        "id": "y-fsccaumwSA"
      },
      "execution_count": 66,
      "outputs": []
    },
    {
      "cell_type": "code",
      "source": [
        "print(x_train)"
      ],
      "metadata": {
        "colab": {
          "base_uri": "https://localhost:8080/"
        },
        "id": "ZPYp_tJbnFwY",
        "outputId": "db237228-ac66-44fe-96aa-07d21f900c83"
      },
      "execution_count": 67,
      "outputs": [
        {
          "output_type": "stream",
          "name": "stdout",
          "text": [
            "[[-1.51176894e-01 -8.35883679e-01  1.12110031e+00 ...  1.79586049e+00\n",
            "  -1.55244663e-01  9.58268285e-01]\n",
            " [-1.51176894e-01 -8.35883679e-01  1.12110031e+00 ...  1.55318398e-03\n",
            "  -1.85358971e-01  1.55977073e+00]\n",
            " [-1.51176894e-01 -8.35883679e-01 -8.91980841e-01 ...  1.55318398e-03\n",
            "  -1.25130355e-01  1.92524057e+00]\n",
            " ...\n",
            " [-1.51176894e-01  1.19633871e+00 -8.91980841e-01 ... -4.05113276e-02\n",
            "  -1.85358971e-01 -7.92941363e-01]\n",
            " [-1.51176894e-01  1.19633871e+00 -8.91980841e-01 ...  4.38542189e-01\n",
            "  -1.85358971e-01  1.63591028e+00]\n",
            " [-1.51176894e-01  1.19633871e+00 -8.91980841e-01 ...  2.18176471e+00\n",
            "  -1.25130355e-01  1.75011960e+00]]\n"
          ]
        }
      ]
    },
    {
      "cell_type": "code",
      "source": [
        "print(x_test)"
      ],
      "metadata": {
        "colab": {
          "base_uri": "https://localhost:8080/"
        },
        "id": "EcFcHnr4nJYv",
        "outputId": "21492d6b-fac7-409c-e944-507cd1fc44b6"
      },
      "execution_count": 68,
      "outputs": [
        {
          "output_type": "stream",
          "name": "stdout",
          "text": [
            "[[-1.51176894e-01 -8.35883679e-01 -8.91980841e-01 ...  1.55318398e-03\n",
            "  -1.55244663e-01 -3.51331973e-01]\n",
            " [-1.51176894e-01 -8.35883679e-01 -8.91980841e-01 ...  1.55318398e-03\n",
            "  -1.85358971e-01  1.29328230e+00]\n",
            " [-1.51176894e-01  1.19633871e+00 -8.91980841e-01 ...  5.18384442e-01\n",
            "  -1.85358971e-01 -8.53853003e-01]\n",
            " ...\n",
            " [-1.51176894e-01  1.19633871e+00 -8.91980841e-01 ...  8.77674580e-01\n",
            "  -1.55244663e-01  1.81644876e-01]\n",
            " [-1.51176894e-01  1.19633871e+00 -8.91980841e-01 ... -1.66928228e-01\n",
            "  -1.55244663e-01 -2.67578468e-01]\n",
            " [-1.51176894e-01 -8.35883679e-01 -8.91980841e-01 ... -5.79446534e-01\n",
            "   2.88630045e+00  1.19430089e+00]]\n"
          ]
        }
      ]
    },
    {
      "cell_type": "code",
      "source": [
        "from sklearn.tree import DecisionTreeClassifier\n",
        "classifier = DecisionTreeClassifier(criterion = 'entropy', random_state = 0)\n",
        "classifier.fit(x_train, y_train)"
      ],
      "metadata": {
        "colab": {
          "base_uri": "https://localhost:8080/",
          "height": 75
        },
        "id": "U6JJ2whunNdv",
        "outputId": "e5fb1ab2-2e08-4dfc-ea29-226e9025f323"
      },
      "execution_count": 69,
      "outputs": [
        {
          "output_type": "execute_result",
          "data": {
            "text/plain": [
              "DecisionTreeClassifier(criterion='entropy', random_state=0)"
            ],
            "text/html": [
              "<style>#sk-container-id-3 {color: black;background-color: white;}#sk-container-id-3 pre{padding: 0;}#sk-container-id-3 div.sk-toggleable {background-color: white;}#sk-container-id-3 label.sk-toggleable__label {cursor: pointer;display: block;width: 100%;margin-bottom: 0;padding: 0.3em;box-sizing: border-box;text-align: center;}#sk-container-id-3 label.sk-toggleable__label-arrow:before {content: \"▸\";float: left;margin-right: 0.25em;color: #696969;}#sk-container-id-3 label.sk-toggleable__label-arrow:hover:before {color: black;}#sk-container-id-3 div.sk-estimator:hover label.sk-toggleable__label-arrow:before {color: black;}#sk-container-id-3 div.sk-toggleable__content {max-height: 0;max-width: 0;overflow: hidden;text-align: left;background-color: #f0f8ff;}#sk-container-id-3 div.sk-toggleable__content pre {margin: 0.2em;color: black;border-radius: 0.25em;background-color: #f0f8ff;}#sk-container-id-3 input.sk-toggleable__control:checked~div.sk-toggleable__content {max-height: 200px;max-width: 100%;overflow: auto;}#sk-container-id-3 input.sk-toggleable__control:checked~label.sk-toggleable__label-arrow:before {content: \"▾\";}#sk-container-id-3 div.sk-estimator input.sk-toggleable__control:checked~label.sk-toggleable__label {background-color: #d4ebff;}#sk-container-id-3 div.sk-label input.sk-toggleable__control:checked~label.sk-toggleable__label {background-color: #d4ebff;}#sk-container-id-3 input.sk-hidden--visually {border: 0;clip: rect(1px 1px 1px 1px);clip: rect(1px, 1px, 1px, 1px);height: 1px;margin: -1px;overflow: hidden;padding: 0;position: absolute;width: 1px;}#sk-container-id-3 div.sk-estimator {font-family: monospace;background-color: #f0f8ff;border: 1px dotted black;border-radius: 0.25em;box-sizing: border-box;margin-bottom: 0.5em;}#sk-container-id-3 div.sk-estimator:hover {background-color: #d4ebff;}#sk-container-id-3 div.sk-parallel-item::after {content: \"\";width: 100%;border-bottom: 1px solid gray;flex-grow: 1;}#sk-container-id-3 div.sk-label:hover label.sk-toggleable__label {background-color: #d4ebff;}#sk-container-id-3 div.sk-serial::before {content: \"\";position: absolute;border-left: 1px solid gray;box-sizing: border-box;top: 0;bottom: 0;left: 50%;z-index: 0;}#sk-container-id-3 div.sk-serial {display: flex;flex-direction: column;align-items: center;background-color: white;padding-right: 0.2em;padding-left: 0.2em;position: relative;}#sk-container-id-3 div.sk-item {position: relative;z-index: 1;}#sk-container-id-3 div.sk-parallel {display: flex;align-items: stretch;justify-content: center;background-color: white;position: relative;}#sk-container-id-3 div.sk-item::before, #sk-container-id-3 div.sk-parallel-item::before {content: \"\";position: absolute;border-left: 1px solid gray;box-sizing: border-box;top: 0;bottom: 0;left: 50%;z-index: -1;}#sk-container-id-3 div.sk-parallel-item {display: flex;flex-direction: column;z-index: 1;position: relative;background-color: white;}#sk-container-id-3 div.sk-parallel-item:first-child::after {align-self: flex-end;width: 50%;}#sk-container-id-3 div.sk-parallel-item:last-child::after {align-self: flex-start;width: 50%;}#sk-container-id-3 div.sk-parallel-item:only-child::after {width: 0;}#sk-container-id-3 div.sk-dashed-wrapped {border: 1px dashed gray;margin: 0 0.4em 0.5em 0.4em;box-sizing: border-box;padding-bottom: 0.4em;background-color: white;}#sk-container-id-3 div.sk-label label {font-family: monospace;font-weight: bold;display: inline-block;line-height: 1.2em;}#sk-container-id-3 div.sk-label-container {text-align: center;}#sk-container-id-3 div.sk-container {/* jupyter's `normalize.less` sets `[hidden] { display: none; }` but bootstrap.min.css set `[hidden] { display: none !important; }` so we also need the `!important` here to be able to override the default hidden behavior on the sphinx rendered scikit-learn.org. See: https://github.com/scikit-learn/scikit-learn/issues/21755 */display: inline-block !important;position: relative;}#sk-container-id-3 div.sk-text-repr-fallback {display: none;}</style><div id=\"sk-container-id-3\" class=\"sk-top-container\"><div class=\"sk-text-repr-fallback\"><pre>DecisionTreeClassifier(criterion=&#x27;entropy&#x27;, random_state=0)</pre><b>In a Jupyter environment, please rerun this cell to show the HTML representation or trust the notebook. <br />On GitHub, the HTML representation is unable to render, please try loading this page with nbviewer.org.</b></div><div class=\"sk-container\" hidden><div class=\"sk-item\"><div class=\"sk-estimator sk-toggleable\"><input class=\"sk-toggleable__control sk-hidden--visually\" id=\"sk-estimator-id-3\" type=\"checkbox\" checked><label for=\"sk-estimator-id-3\" class=\"sk-toggleable__label sk-toggleable__label-arrow\">DecisionTreeClassifier</label><div class=\"sk-toggleable__content\"><pre>DecisionTreeClassifier(criterion=&#x27;entropy&#x27;, random_state=0)</pre></div></div></div></div></div>"
            ]
          },
          "metadata": {},
          "execution_count": 69
        }
      ]
    },
    {
      "cell_type": "code",
      "source": [
        "print(classifier.predict(sc.transform([2539,2787,0.0,1.0,0.0,40.64749,-73.97237,149,1,9,0.21,6,365])))"
      ],
      "metadata": {
        "colab": {
          "base_uri": "https://localhost:8080/",
          "height": 442
        },
        "id": "um6SnH1OnPuX",
        "outputId": "44499325-e497-43db-f96b-9d48dfb7b273"
      },
      "execution_count": 81,
      "outputs": [
        {
          "output_type": "error",
          "ename": "ValueError",
          "evalue": "ignored",
          "traceback": [
            "\u001b[0;31m---------------------------------------------------------------------------\u001b[0m",
            "\u001b[0;31mValueError\u001b[0m                                Traceback (most recent call last)",
            "\u001b[0;32m<ipython-input-81-df1059b8d65f>\u001b[0m in \u001b[0;36m<cell line: 1>\u001b[0;34m()\u001b[0m\n\u001b[0;32m----> 1\u001b[0;31m \u001b[0mprint\u001b[0m\u001b[0;34m(\u001b[0m\u001b[0mclassifier\u001b[0m\u001b[0;34m.\u001b[0m\u001b[0mpredict\u001b[0m\u001b[0;34m(\u001b[0m\u001b[0msc\u001b[0m\u001b[0;34m.\u001b[0m\u001b[0mtransform\u001b[0m\u001b[0;34m(\u001b[0m\u001b[0;34m[\u001b[0m \u001b[0;36m2.539000e+03\u001b[0m\u001b[0;34m,\u001b[0m\u001b[0;36m2.787000e+03\u001b[0m\u001b[0;34m,\u001b[0m\u001b[0;36m0.000000e+00\u001b[0m\u001b[0;34m,\u001b[0m\u001b[0;36m1.000000e+00\u001b[0m\u001b[0;34m,\u001b[0m\u001b[0;36m0.000000e+00\u001b[0m\u001b[0;34m,\u001b[0m\u001b[0;36m4.064749e+01\u001b[0m\u001b[0;34m,\u001b[0m\u001b[0;34m-\u001b[0m\u001b[0;36m7.397237e+01\u001b[0m\u001b[0;34m,\u001b[0m\u001b[0;36m1.490000e+02\u001b[0m\u001b[0;34m,\u001b[0m\u001b[0;36m1.000000e+00\u001b[0m\u001b[0;34m,\u001b[0m\u001b[0;36m9.000000e+00\u001b[0m\u001b[0;34m,\u001b[0m\u001b[0;36m2.100000e-01\u001b[0m\u001b[0;34m,\u001b[0m\u001b[0;36m6.000000e+00\u001b[0m\u001b[0;34m,\u001b[0m\u001b[0;36m3.650000e+02\u001b[0m\u001b[0;34m]\u001b[0m\u001b[0;34m)\u001b[0m\u001b[0;34m)\u001b[0m\u001b[0;34m)\u001b[0m\u001b[0;34m\u001b[0m\u001b[0;34m\u001b[0m\u001b[0m\n\u001b[0m",
            "\u001b[0;32m/usr/local/lib/python3.10/dist-packages/sklearn/utils/_set_output.py\u001b[0m in \u001b[0;36mwrapped\u001b[0;34m(self, X, *args, **kwargs)\u001b[0m\n\u001b[1;32m    138\u001b[0m     \u001b[0;34m@\u001b[0m\u001b[0mwraps\u001b[0m\u001b[0;34m(\u001b[0m\u001b[0mf\u001b[0m\u001b[0;34m)\u001b[0m\u001b[0;34m\u001b[0m\u001b[0;34m\u001b[0m\u001b[0m\n\u001b[1;32m    139\u001b[0m     \u001b[0;32mdef\u001b[0m \u001b[0mwrapped\u001b[0m\u001b[0;34m(\u001b[0m\u001b[0mself\u001b[0m\u001b[0;34m,\u001b[0m \u001b[0mX\u001b[0m\u001b[0;34m,\u001b[0m \u001b[0;34m*\u001b[0m\u001b[0margs\u001b[0m\u001b[0;34m,\u001b[0m \u001b[0;34m**\u001b[0m\u001b[0mkwargs\u001b[0m\u001b[0;34m)\u001b[0m\u001b[0;34m:\u001b[0m\u001b[0;34m\u001b[0m\u001b[0;34m\u001b[0m\u001b[0m\n\u001b[0;32m--> 140\u001b[0;31m         \u001b[0mdata_to_wrap\u001b[0m \u001b[0;34m=\u001b[0m \u001b[0mf\u001b[0m\u001b[0;34m(\u001b[0m\u001b[0mself\u001b[0m\u001b[0;34m,\u001b[0m \u001b[0mX\u001b[0m\u001b[0;34m,\u001b[0m \u001b[0;34m*\u001b[0m\u001b[0margs\u001b[0m\u001b[0;34m,\u001b[0m \u001b[0;34m**\u001b[0m\u001b[0mkwargs\u001b[0m\u001b[0;34m)\u001b[0m\u001b[0;34m\u001b[0m\u001b[0;34m\u001b[0m\u001b[0m\n\u001b[0m\u001b[1;32m    141\u001b[0m         \u001b[0;32mif\u001b[0m \u001b[0misinstance\u001b[0m\u001b[0;34m(\u001b[0m\u001b[0mdata_to_wrap\u001b[0m\u001b[0;34m,\u001b[0m \u001b[0mtuple\u001b[0m\u001b[0;34m)\u001b[0m\u001b[0;34m:\u001b[0m\u001b[0;34m\u001b[0m\u001b[0;34m\u001b[0m\u001b[0m\n\u001b[1;32m    142\u001b[0m             \u001b[0;31m# only wrap the first output for cross decomposition\u001b[0m\u001b[0;34m\u001b[0m\u001b[0;34m\u001b[0m\u001b[0m\n",
            "\u001b[0;32m/usr/local/lib/python3.10/dist-packages/sklearn/preprocessing/_data.py\u001b[0m in \u001b[0;36mtransform\u001b[0;34m(self, X, copy)\u001b[0m\n\u001b[1;32m    990\u001b[0m \u001b[0;34m\u001b[0m\u001b[0m\n\u001b[1;32m    991\u001b[0m         \u001b[0mcopy\u001b[0m \u001b[0;34m=\u001b[0m \u001b[0mcopy\u001b[0m \u001b[0;32mif\u001b[0m \u001b[0mcopy\u001b[0m \u001b[0;32mis\u001b[0m \u001b[0;32mnot\u001b[0m \u001b[0;32mNone\u001b[0m \u001b[0;32melse\u001b[0m \u001b[0mself\u001b[0m\u001b[0;34m.\u001b[0m\u001b[0mcopy\u001b[0m\u001b[0;34m\u001b[0m\u001b[0;34m\u001b[0m\u001b[0m\n\u001b[0;32m--> 992\u001b[0;31m         X = self._validate_data(\n\u001b[0m\u001b[1;32m    993\u001b[0m             \u001b[0mX\u001b[0m\u001b[0;34m,\u001b[0m\u001b[0;34m\u001b[0m\u001b[0;34m\u001b[0m\u001b[0m\n\u001b[1;32m    994\u001b[0m             \u001b[0mreset\u001b[0m\u001b[0;34m=\u001b[0m\u001b[0;32mFalse\u001b[0m\u001b[0;34m,\u001b[0m\u001b[0;34m\u001b[0m\u001b[0;34m\u001b[0m\u001b[0m\n",
            "\u001b[0;32m/usr/local/lib/python3.10/dist-packages/sklearn/base.py\u001b[0m in \u001b[0;36m_validate_data\u001b[0;34m(self, X, y, reset, validate_separately, **check_params)\u001b[0m\n\u001b[1;32m    563\u001b[0m             \u001b[0;32mraise\u001b[0m \u001b[0mValueError\u001b[0m\u001b[0;34m(\u001b[0m\u001b[0;34m\"Validation should be done on X, y or both.\"\u001b[0m\u001b[0;34m)\u001b[0m\u001b[0;34m\u001b[0m\u001b[0;34m\u001b[0m\u001b[0m\n\u001b[1;32m    564\u001b[0m         \u001b[0;32melif\u001b[0m \u001b[0;32mnot\u001b[0m \u001b[0mno_val_X\u001b[0m \u001b[0;32mand\u001b[0m \u001b[0mno_val_y\u001b[0m\u001b[0;34m:\u001b[0m\u001b[0;34m\u001b[0m\u001b[0;34m\u001b[0m\u001b[0m\n\u001b[0;32m--> 565\u001b[0;31m             \u001b[0mX\u001b[0m \u001b[0;34m=\u001b[0m \u001b[0mcheck_array\u001b[0m\u001b[0;34m(\u001b[0m\u001b[0mX\u001b[0m\u001b[0;34m,\u001b[0m \u001b[0minput_name\u001b[0m\u001b[0;34m=\u001b[0m\u001b[0;34m\"X\"\u001b[0m\u001b[0;34m,\u001b[0m \u001b[0;34m**\u001b[0m\u001b[0mcheck_params\u001b[0m\u001b[0;34m)\u001b[0m\u001b[0;34m\u001b[0m\u001b[0;34m\u001b[0m\u001b[0m\n\u001b[0m\u001b[1;32m    566\u001b[0m             \u001b[0mout\u001b[0m \u001b[0;34m=\u001b[0m \u001b[0mX\u001b[0m\u001b[0;34m\u001b[0m\u001b[0;34m\u001b[0m\u001b[0m\n\u001b[1;32m    567\u001b[0m         \u001b[0;32melif\u001b[0m \u001b[0mno_val_X\u001b[0m \u001b[0;32mand\u001b[0m \u001b[0;32mnot\u001b[0m \u001b[0mno_val_y\u001b[0m\u001b[0;34m:\u001b[0m\u001b[0;34m\u001b[0m\u001b[0;34m\u001b[0m\u001b[0m\n",
            "\u001b[0;32m/usr/local/lib/python3.10/dist-packages/sklearn/utils/validation.py\u001b[0m in \u001b[0;36mcheck_array\u001b[0;34m(array, accept_sparse, accept_large_sparse, dtype, order, copy, force_all_finite, ensure_2d, allow_nd, ensure_min_samples, ensure_min_features, estimator, input_name)\u001b[0m\n\u001b[1;32m    900\u001b[0m             \u001b[0;31m# If input is 1D raise error\u001b[0m\u001b[0;34m\u001b[0m\u001b[0;34m\u001b[0m\u001b[0m\n\u001b[1;32m    901\u001b[0m             \u001b[0;32mif\u001b[0m \u001b[0marray\u001b[0m\u001b[0;34m.\u001b[0m\u001b[0mndim\u001b[0m \u001b[0;34m==\u001b[0m \u001b[0;36m1\u001b[0m\u001b[0;34m:\u001b[0m\u001b[0;34m\u001b[0m\u001b[0;34m\u001b[0m\u001b[0m\n\u001b[0;32m--> 902\u001b[0;31m                 raise ValueError(\n\u001b[0m\u001b[1;32m    903\u001b[0m                     \u001b[0;34m\"Expected 2D array, got 1D array instead:\\narray={}.\\n\"\u001b[0m\u001b[0;34m\u001b[0m\u001b[0;34m\u001b[0m\u001b[0m\n\u001b[1;32m    904\u001b[0m                     \u001b[0;34m\"Reshape your data either using array.reshape(-1, 1) if \"\u001b[0m\u001b[0;34m\u001b[0m\u001b[0;34m\u001b[0m\u001b[0m\n",
            "\u001b[0;31mValueError\u001b[0m: Expected 2D array, got 1D array instead:\narray=[ 2.539000e+03  2.787000e+03  0.000000e+00  1.000000e+00  0.000000e+00\n  4.064749e+01 -7.397237e+01  1.490000e+02  1.000000e+00  9.000000e+00\n  2.100000e-01  6.000000e+00  3.650000e+02].\nReshape your data either using array.reshape(-1, 1) if your data has a single feature or array.reshape(1, -1) if it contains a single sample."
          ]
        }
      ]
    },
    {
      "cell_type": "code",
      "source": [
        "print(x_test)"
      ],
      "metadata": {
        "colab": {
          "base_uri": "https://localhost:8080/"
        },
        "outputId": "6499aa8a-f7ec-45f2-cdea-6e3e3ca969d1",
        "id": "8LZfy1s_VaSe"
      },
      "execution_count": 71,
      "outputs": [
        {
          "output_type": "stream",
          "name": "stdout",
          "text": [
            "[[-1.51176894e-01 -8.35883679e-01 -8.91980841e-01 ...  1.55318398e-03\n",
            "  -1.55244663e-01 -3.51331973e-01]\n",
            " [-1.51176894e-01 -8.35883679e-01 -8.91980841e-01 ...  1.55318398e-03\n",
            "  -1.85358971e-01  1.29328230e+00]\n",
            " [-1.51176894e-01  1.19633871e+00 -8.91980841e-01 ...  5.18384442e-01\n",
            "  -1.85358971e-01 -8.53853003e-01]\n",
            " ...\n",
            " [-1.51176894e-01  1.19633871e+00 -8.91980841e-01 ...  8.77674580e-01\n",
            "  -1.55244663e-01  1.81644876e-01]\n",
            " [-1.51176894e-01  1.19633871e+00 -8.91980841e-01 ... -1.66928228e-01\n",
            "  -1.55244663e-01 -2.67578468e-01]\n",
            " [-1.51176894e-01 -8.35883679e-01 -8.91980841e-01 ... -5.79446534e-01\n",
            "   2.88630045e+00  1.19430089e+00]]\n"
          ]
        }
      ]
    },
    {
      "cell_type": "code",
      "source": [
        "print(x_train)"
      ],
      "metadata": {
        "colab": {
          "base_uri": "https://localhost:8080/"
        },
        "outputId": "b1cda098-a6fc-427b-fe33-60afca565e58",
        "id": "-0KXiH4KVVGr"
      },
      "execution_count": 72,
      "outputs": [
        {
          "output_type": "stream",
          "name": "stdout",
          "text": [
            "[[-1.51176894e-01 -8.35883679e-01  1.12110031e+00 ...  1.79586049e+00\n",
            "  -1.55244663e-01  9.58268285e-01]\n",
            " [-1.51176894e-01 -8.35883679e-01  1.12110031e+00 ...  1.55318398e-03\n",
            "  -1.85358971e-01  1.55977073e+00]\n",
            " [-1.51176894e-01 -8.35883679e-01 -8.91980841e-01 ...  1.55318398e-03\n",
            "  -1.25130355e-01  1.92524057e+00]\n",
            " ...\n",
            " [-1.51176894e-01  1.19633871e+00 -8.91980841e-01 ... -4.05113276e-02\n",
            "  -1.85358971e-01 -7.92941363e-01]\n",
            " [-1.51176894e-01  1.19633871e+00 -8.91980841e-01 ...  4.38542189e-01\n",
            "  -1.85358971e-01  1.63591028e+00]\n",
            " [-1.51176894e-01  1.19633871e+00 -8.91980841e-01 ...  2.18176471e+00\n",
            "  -1.25130355e-01  1.75011960e+00]]\n"
          ]
        }
      ]
    },
    {
      "cell_type": "code",
      "source": [
        "print(x_train)"
      ],
      "metadata": {
        "colab": {
          "base_uri": "https://localhost:8080/"
        },
        "outputId": "921f4022-d1a9-41db-c3a6-910b9b554b37",
        "id": "RPCzftUqVTcc"
      },
      "execution_count": 73,
      "outputs": [
        {
          "output_type": "stream",
          "name": "stdout",
          "text": [
            "[[-1.51176894e-01 -8.35883679e-01  1.12110031e+00 ...  1.79586049e+00\n",
            "  -1.55244663e-01  9.58268285e-01]\n",
            " [-1.51176894e-01 -8.35883679e-01  1.12110031e+00 ...  1.55318398e-03\n",
            "  -1.85358971e-01  1.55977073e+00]\n",
            " [-1.51176894e-01 -8.35883679e-01 -8.91980841e-01 ...  1.55318398e-03\n",
            "  -1.25130355e-01  1.92524057e+00]\n",
            " ...\n",
            " [-1.51176894e-01  1.19633871e+00 -8.91980841e-01 ... -4.05113276e-02\n",
            "  -1.85358971e-01 -7.92941363e-01]\n",
            " [-1.51176894e-01  1.19633871e+00 -8.91980841e-01 ...  4.38542189e-01\n",
            "  -1.85358971e-01  1.63591028e+00]\n",
            " [-1.51176894e-01  1.19633871e+00 -8.91980841e-01 ...  2.18176471e+00\n",
            "  -1.25130355e-01  1.75011960e+00]]\n"
          ]
        }
      ]
    },
    {
      "cell_type": "code",
      "metadata": {
        "id": "p6VMTb2O4hwM",
        "outputId": "3b1ba799-f737-4d3e-8607-2cabcca7a33b",
        "colab": {
          "base_uri": "https://localhost:8080/"
        }
      },
      "source": [
        "y_pred = classifier.predict(x_test)\n",
        "print(y_pred)\n",
        "print(y_test)"
      ],
      "execution_count": 74,
      "outputs": [
        {
          "output_type": "stream",
          "name": "stdout",
          "text": [
            "[1 1 0 ... 0 0 1]\n",
            "[1 0 0 ... 1 1 0]\n"
          ]
        }
      ]
    },
    {
      "cell_type": "code",
      "source": [
        "from sklearn.metrics import confusion_matrix, accuracy_score\n",
        "cm = confusion_matrix(y_test, y_pred)\n",
        "print(cm)\n",
        "accuracy_score(y_test, y_pred)"
      ],
      "metadata": {
        "colab": {
          "base_uri": "https://localhost:8080/"
        },
        "id": "V2QEjOrunVlg",
        "outputId": "243763b5-8649-4e0a-faf8-fa1996cdba1d"
      },
      "execution_count": 75,
      "outputs": [
        {
          "output_type": "stream",
          "name": "stdout",
          "text": [
            "[[1831 2392]\n",
            " [2344 3212]]\n"
          ]
        },
        {
          "output_type": "execute_result",
          "data": {
            "text/plain": [
              "0.5156969015236732"
            ]
          },
          "metadata": {},
          "execution_count": 75
        }
      ]
    }
  ]
}