{
  "nbformat": 4,
  "nbformat_minor": 0,
  "metadata": {
    "colab": {
      "provenance": []
    },
    "kernelspec": {
      "name": "python3",
      "display_name": "Python 3"
    },
    "language_info": {
      "name": "python"
    }
  },
  "cells": [
    {
      "cell_type": "code",
      "execution_count": 110,
      "metadata": {
        "id": "rKibzBK2JYYO"
      },
      "outputs": [],
      "source": [
        "import pandas as pd\n",
        "import numpy as np\n",
        "import matplotlib.pyplot as plt"
      ]
    },
    {
      "cell_type": "code",
      "source": [
        "dataset=pd.read_csv(\" Airbnb.csv\")"
      ],
      "metadata": {
        "id": "u1ovYnFpS5PU"
      },
      "execution_count": 111,
      "outputs": []
    },
    {
      "cell_type": "code",
      "source": [
        "print(dataset)"
      ],
      "metadata": {
        "colab": {
          "base_uri": "https://localhost:8080/"
        },
        "id": "l9NlUXOSYRax",
        "outputId": "4ee9f136-9652-44ee-a081-37180c884497"
      },
      "execution_count": 112,
      "outputs": [
        {
          "output_type": "stream",
          "name": "stdout",
          "text": [
            "             id                                               name   host_id  \\\n",
            "0          2539                 Clean & quiet apt home by the park      2787   \n",
            "1          2595                              Skylit Midtown Castle      2845   \n",
            "2          3647                THE VILLAGE OF HARLEM....NEW YORK !      4632   \n",
            "3          3831                    Cozy Entire Floor of Brownstone      4869   \n",
            "4          5022   Entire Apt: Spacious Studio/Loft by central park      7192   \n",
            "...         ...                                                ...       ...   \n",
            "48890  36484665    Charming one bedroom - newly renovated rowhouse   8232441   \n",
            "48891  36485057      Affordable room in Bushwick/East Williamsburg   6570630   \n",
            "48892  36485431            Sunny Studio at Historical Neighborhood  23492952   \n",
            "48893  36485609               43rd St. Time Square-cozy single bed  30985759   \n",
            "48894  36487245  Trendy duplex in the very heart of Hell's Kitchen  68119814   \n",
            "\n",
            "      neighbourhood_group  latitude  longitude        room_type  price  \\\n",
            "0                Brooklyn  40.64749  -73.97237     Private room    149   \n",
            "1               Manhattan  40.75362  -73.98377  Entire home/apt    225   \n",
            "2               Manhattan  40.80902  -73.94190     Private room    150   \n",
            "3                Brooklyn  40.68514  -73.95976  Entire home/apt     89   \n",
            "4               Manhattan  40.79851  -73.94399  Entire home/apt     80   \n",
            "...                   ...       ...        ...              ...    ...   \n",
            "48890            Brooklyn  40.67853  -73.94995     Private room     70   \n",
            "48891            Brooklyn  40.70184  -73.93317     Private room     40   \n",
            "48892           Manhattan  40.81475  -73.94867  Entire home/apt    115   \n",
            "48893           Manhattan  40.75751  -73.99112      Shared room     55   \n",
            "48894           Manhattan  40.76404  -73.98933     Private room     90   \n",
            "\n",
            "       minimum_nights  number_of_reviews  reviews_per_month  \\\n",
            "0                   1                  9               0.21   \n",
            "1                   1                 45               0.38   \n",
            "2                   3                  0                NaN   \n",
            "3                   1                270               4.64   \n",
            "4                  10                  9               0.10   \n",
            "...               ...                ...                ...   \n",
            "48890               2                  0                NaN   \n",
            "48891               4                  0                NaN   \n",
            "48892              10                  0                NaN   \n",
            "48893               1                  0                NaN   \n",
            "48894               7                  0                NaN   \n",
            "\n",
            "       calculated_host_listings_count  availability_365  \n",
            "0                                   6               365  \n",
            "1                                   2               355  \n",
            "2                                   1               365  \n",
            "3                                   1               194  \n",
            "4                                   1                 0  \n",
            "...                               ...               ...  \n",
            "48890                               2                 9  \n",
            "48891                               2                36  \n",
            "48892                               1                27  \n",
            "48893                               6                 2  \n",
            "48894                               1                23  \n",
            "\n",
            "[48895 rows x 13 columns]\n"
          ]
        }
      ]
    },
    {
      "cell_type": "code",
      "source": [
        "x=dataset.iloc[:,:-1].values\n",
        "y=dataset.iloc[:,-6].values\n",
        "print(x)\n",
        "print(y)"
      ],
      "metadata": {
        "colab": {
          "base_uri": "https://localhost:8080/"
        },
        "id": "3zWNsKrtTDO4",
        "outputId": "3022dfa9-5b32-463c-83f7-e59f3e65b1c3"
      },
      "execution_count": 113,
      "outputs": [
        {
          "output_type": "stream",
          "name": "stdout",
          "text": [
            "[[2539 'Clean & quiet apt home by the park' 2787 ... 9 0.21 6]\n",
            " [2595 'Skylit Midtown Castle' 2845 ... 45 0.38 2]\n",
            " [3647 'THE VILLAGE OF HARLEM....NEW YORK !' 4632 ... 0 nan 1]\n",
            " ...\n",
            " [36485431 'Sunny Studio at Historical Neighborhood' 23492952 ... 0 nan 1]\n",
            " [36485609 '43rd St. Time Square-cozy single bed' 30985759 ... 0 nan 6]\n",
            " [36487245 \"Trendy duplex in the very heart of Hell's Kitchen\" 68119814\n",
            "  ... 0 nan 1]]\n",
            "[149 225 150 ... 115  55  90]\n"
          ]
        }
      ]
    },
    {
      "cell_type": "code",
      "source": [
        "from sklearn.impute import SimpleImputer\n",
        "import numpy as np\n",
        "imputer = SimpleImputer(missing_values=np.nan, strategy=\"mean\")\n",
        "imputer.fit(x[:, 8:13])\n",
        "x[:, 8:13] = imputer.transform(x[:, 8:13])\n"
      ],
      "metadata": {
        "id": "Ixnm2GDwSEiL"
      },
      "execution_count": 114,
      "outputs": []
    },
    {
      "cell_type": "code",
      "source": [
        "print(x)"
      ],
      "metadata": {
        "colab": {
          "base_uri": "https://localhost:8080/"
        },
        "id": "4Tj1JvV5TXnz",
        "outputId": "e2fc164c-f09f-42d3-f8cf-3fba5a3c817b"
      },
      "execution_count": 115,
      "outputs": [
        {
          "output_type": "stream",
          "name": "stdout",
          "text": [
            "[[2539 'Clean & quiet apt home by the park' 2787 ... 9.0 0.21 6.0]\n",
            " [2595 'Skylit Midtown Castle' 2845 ... 45.0 0.38 2.0]\n",
            " [3647 'THE VILLAGE OF HARLEM....NEW YORK !' 4632 ... 0.0\n",
            "  1.3732214298586618 1.0]\n",
            " ...\n",
            " [36485431 'Sunny Studio at Historical Neighborhood' 23492952 ... 0.0\n",
            "  1.3732214298586618 1.0]\n",
            " [36485609 '43rd St. Time Square-cozy single bed' 30985759 ... 0.0\n",
            "  1.3732214298586618 6.0]\n",
            " [36487245 \"Trendy duplex in the very heart of Hell's Kitchen\" 68119814\n",
            "  ... 0.0 1.3732214298586618 1.0]]\n"
          ]
        }
      ]
    },
    {
      "cell_type": "code",
      "source": [
        "from sklearn.compose import ColumnTransformer\n",
        "from sklearn.preprocessing import OneHotEncoder\n",
        "ct = ColumnTransformer(transformers=[('encoder', OneHotEncoder(), [3])], remainder='passthrough')\n",
        "x = np.array(ct.fit_transform(x))"
      ],
      "metadata": {
        "id": "fgMW95bFU5Kr"
      },
      "execution_count": 116,
      "outputs": []
    },
    {
      "cell_type": "code",
      "source": [
        "print(x)"
      ],
      "metadata": {
        "colab": {
          "base_uri": "https://localhost:8080/"
        },
        "id": "6_QP1ctYVIvR",
        "outputId": "ce2db9d8-7023-45fa-bdd7-2866e777e0c4"
      },
      "execution_count": 117,
      "outputs": [
        {
          "output_type": "stream",
          "name": "stdout",
          "text": [
            "[[0.0 1.0 0.0 ... 9.0 0.21 6.0]\n",
            " [0.0 0.0 1.0 ... 45.0 0.38 2.0]\n",
            " [0.0 0.0 1.0 ... 0.0 1.3732214298586618 1.0]\n",
            " ...\n",
            " [0.0 0.0 1.0 ... 0.0 1.3732214298586618 1.0]\n",
            " [0.0 0.0 1.0 ... 0.0 1.3732214298586618 6.0]\n",
            " [0.0 0.0 1.0 ... 0.0 1.3732214298586618 1.0]]\n"
          ]
        }
      ]
    },
    {
      "cell_type": "code",
      "source": [
        "dataset['price'].describe()"
      ],
      "metadata": {
        "colab": {
          "base_uri": "https://localhost:8080/"
        },
        "id": "k1_n8GmTUH4S",
        "outputId": "d82c9d87-0ae9-4194-c6e9-8400fc6567ef"
      },
      "execution_count": 118,
      "outputs": [
        {
          "output_type": "execute_result",
          "data": {
            "text/plain": [
              "count    48895.000000\n",
              "mean       152.720687\n",
              "std        240.154170\n",
              "min          0.000000\n",
              "25%         69.000000\n",
              "50%        106.000000\n",
              "75%        175.000000\n",
              "max      10000.000000\n",
              "Name: price, dtype: float64"
            ]
          },
          "metadata": {},
          "execution_count": 118
        }
      ]
    },
    {
      "cell_type": "code",
      "source": [
        "from sklearn.preprocessing import LabelEncoder\n",
        "le=LabelEncoder()\n",
        "y=np.array(le.fit_transform(y))"
      ],
      "metadata": {
        "id": "s08BX-RNUeH_"
      },
      "execution_count": 119,
      "outputs": []
    },
    {
      "cell_type": "code",
      "source": [
        "print(y)"
      ],
      "metadata": {
        "colab": {
          "base_uri": "https://localhost:8080/"
        },
        "id": "psEJ22jcWcn0",
        "outputId": "493b26cd-b7aa-4093-8c7a-3833c6b258af"
      },
      "execution_count": 120,
      "outputs": [
        {
          "output_type": "stream",
          "name": "stdout",
          "text": [
            "[138 214 139 ... 104  44  79]\n"
          ]
        }
      ]
    }
  ]
}