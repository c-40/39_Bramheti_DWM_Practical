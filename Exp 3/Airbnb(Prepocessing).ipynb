{
  "nbformat": 4,
  "nbformat_minor": 0,
  "metadata": {
    "colab": {
      "provenance": []
    },
    "kernelspec": {
      "name": "python3",
      "display_name": "Python 3"
    },
    "language_info": {
      "name": "python"
    }
  },
  "cells": [
    {
      "cell_type": "code",
      "execution_count": 1,
      "metadata": {
        "id": "rKibzBK2JYYO"
      },
      "outputs": [],
      "source": [
        "import pandas as pd\n",
        "import numpy as np\n",
        "import matplotlib.pyplot as plt"
      ]
    },
    {
      "cell_type": "code",
      "source": [
        "dataset=pd.read_csv(\"airbnb_decision.csv\")"
      ],
      "metadata": {
        "id": "u1ovYnFpS5PU"
      },
      "execution_count": 2,
      "outputs": []
    },
    {
      "cell_type": "code",
      "source": [
        "print(dataset)"
      ],
      "metadata": {
        "colab": {
          "base_uri": "https://localhost:8080/"
        },
        "id": "l9NlUXOSYRax",
        "outputId": "e26a9bad-be6a-4b14-ad70-17f7763d7c62"
      },
      "execution_count": 3,
      "outputs": [
        {
          "output_type": "stream",
          "name": "stdout",
          "text": [
            "             id   host_id neighbourhood_group  latitude  longitude  price  \\\n",
            "0          2539      2787            Brooklyn  40.64749  -73.97237    149   \n",
            "1          2595      2845           Manhattan  40.75362  -73.98377    225   \n",
            "2          3647      4632           Manhattan  40.80902  -73.94190    150   \n",
            "3          3831      4869            Brooklyn  40.68514  -73.95976     89   \n",
            "4          5022      7192           Manhattan  40.79851  -73.94399     80   \n",
            "...         ...       ...                 ...       ...        ...    ...   \n",
            "48890  36484665   8232441            Brooklyn  40.67853  -73.94995     70   \n",
            "48891  36485057   6570630            Brooklyn  40.70184  -73.93317     40   \n",
            "48892  36485431  23492952           Manhattan  40.81475  -73.94867    115   \n",
            "48893  36485609  30985759           Manhattan  40.75751  -73.99112     55   \n",
            "48894  36487245  68119814           Manhattan  40.76404  -73.98933     90   \n",
            "\n",
            "       minimum_nights  number_of_reviews  reviews_per_month  \\\n",
            "0                   1                  9               0.21   \n",
            "1                   1                 45               0.38   \n",
            "2                   3                  0                NaN   \n",
            "3                   1                270               4.64   \n",
            "4                  10                  9               0.10   \n",
            "...               ...                ...                ...   \n",
            "48890               2                  0                NaN   \n",
            "48891               4                  0                NaN   \n",
            "48892              10                  0                NaN   \n",
            "48893               1                  0                NaN   \n",
            "48894               7                  0                NaN   \n",
            "\n",
            "       calculated_host_listings_count  availability_365 DECISION  \n",
            "0                                   6               365      Yes  \n",
            "1                                   2               355       No  \n",
            "2                                   1               365      Yes  \n",
            "3                                   1               194       No  \n",
            "4                                   1                 0       No  \n",
            "...                               ...               ...      ...  \n",
            "48890                               2                 9       No  \n",
            "48891                               2                36       No  \n",
            "48892                               1                27      Yes  \n",
            "48893                               6                 2      Yes  \n",
            "48894                               1                23       No  \n",
            "\n",
            "[48895 rows x 12 columns]\n"
          ]
        }
      ]
    },
    {
      "cell_type": "code",
      "source": [
        "x=dataset.iloc[:,:-1].values\n",
        "y=dataset.iloc[:,-1].values\n",
        "print(x)\n",
        "print(y)"
      ],
      "metadata": {
        "colab": {
          "base_uri": "https://localhost:8080/"
        },
        "id": "3zWNsKrtTDO4",
        "outputId": "09b6e28d-c354-4b48-b69b-8b5517aafca0"
      },
      "execution_count": 4,
      "outputs": [
        {
          "output_type": "stream",
          "name": "stdout",
          "text": [
            "[[2539 2787 'Brooklyn' ... 0.21 6 365]\n",
            " [2595 2845 'Manhattan' ... 0.38 2 355]\n",
            " [3647 4632 'Manhattan' ... nan 1 365]\n",
            " ...\n",
            " [36485431 23492952 'Manhattan' ... nan 1 27]\n",
            " [36485609 30985759 'Manhattan' ... nan 6 2]\n",
            " [36487245 68119814 'Manhattan' ... nan 1 23]]\n",
            "['Yes' 'No' 'Yes' ... 'Yes' 'Yes' 'No']\n"
          ]
        }
      ]
    },
    {
      "cell_type": "code",
      "source": [
        "from sklearn.impute import SimpleImputer\n",
        "import numpy as np\n",
        "imputer = SimpleImputer(missing_values=np.nan, strategy=\"mean\")\n",
        "imputer.fit(x[:,5:11])\n",
        "x[:,5:11] = imputer.transform(x[:, 5:11])\n"
      ],
      "metadata": {
        "id": "Ixnm2GDwSEiL"
      },
      "execution_count": 5,
      "outputs": []
    },
    {
      "cell_type": "code",
      "source": [
        "print(x)"
      ],
      "metadata": {
        "colab": {
          "base_uri": "https://localhost:8080/"
        },
        "id": "4Tj1JvV5TXnz",
        "outputId": "f2236a0a-8054-40a2-e880-9e5f427614e0"
      },
      "execution_count": 6,
      "outputs": [
        {
          "output_type": "stream",
          "name": "stdout",
          "text": [
            "[[2539 2787 'Brooklyn' ... 0.21 6.0 365.0]\n",
            " [2595 2845 'Manhattan' ... 0.38 2.0 355.0]\n",
            " [3647 4632 'Manhattan' ... 1.3732214298586618 1.0 365.0]\n",
            " ...\n",
            " [36485431 23492952 'Manhattan' ... 1.3732214298586618 1.0 27.0]\n",
            " [36485609 30985759 'Manhattan' ... 1.3732214298586618 6.0 2.0]\n",
            " [36487245 68119814 'Manhattan' ... 1.3732214298586618 1.0 23.0]]\n"
          ]
        }
      ]
    },
    {
      "cell_type": "code",
      "source": [
        "from sklearn.compose import ColumnTransformer\n",
        "from sklearn.preprocessing import OneHotEncoder\n",
        "ct = ColumnTransformer(transformers=[('encoder', OneHotEncoder(), [2])], remainder='passthrough')\n",
        "x = np.array(ct.fit_transform(x))"
      ],
      "metadata": {
        "id": "fgMW95bFU5Kr"
      },
      "execution_count": 7,
      "outputs": []
    },
    {
      "cell_type": "code",
      "source": [
        "print(x)"
      ],
      "metadata": {
        "colab": {
          "base_uri": "https://localhost:8080/"
        },
        "id": "6_QP1ctYVIvR",
        "outputId": "9d1396b9-5981-4cf9-971c-96f7a6c327d2"
      },
      "execution_count": 8,
      "outputs": [
        {
          "output_type": "stream",
          "name": "stdout",
          "text": [
            "[[0.0 1.0 0.0 ... 0.21 6.0 365.0]\n",
            " [0.0 0.0 1.0 ... 0.38 2.0 355.0]\n",
            " [0.0 0.0 1.0 ... 1.3732214298586618 1.0 365.0]\n",
            " ...\n",
            " [0.0 0.0 1.0 ... 1.3732214298586618 1.0 27.0]\n",
            " [0.0 0.0 1.0 ... 1.3732214298586618 6.0 2.0]\n",
            " [0.0 0.0 1.0 ... 1.3732214298586618 1.0 23.0]]\n"
          ]
        }
      ]
    },
    {
      "cell_type": "code",
      "source": [
        "dataset['price'].describe()\n"
      ],
      "metadata": {
        "colab": {
          "base_uri": "https://localhost:8080/"
        },
        "id": "tzEq3WB4bEQJ",
        "outputId": "c8a191ea-8cdf-42e3-9876-18a1369fb6ee"
      },
      "execution_count": 9,
      "outputs": [
        {
          "output_type": "execute_result",
          "data": {
            "text/plain": [
              "count    48895.000000\n",
              "mean       152.720687\n",
              "std        240.154170\n",
              "min          0.000000\n",
              "25%         69.000000\n",
              "50%        106.000000\n",
              "75%        175.000000\n",
              "max      10000.000000\n",
              "Name: price, dtype: float64"
            ]
          },
          "metadata": {},
          "execution_count": 9
        }
      ]
    },
    {
      "cell_type": "code",
      "source": [
        "from sklearn.preprocessing import LabelEncoder\n",
        "le=LabelEncoder()\n",
        "y=np.array(le.fit_transform(y))"
      ],
      "metadata": {
        "id": "s08BX-RNUeH_"
      },
      "execution_count": 10,
      "outputs": []
    },
    {
      "cell_type": "code",
      "source": [
        "print(y)"
      ],
      "metadata": {
        "colab": {
          "base_uri": "https://localhost:8080/"
        },
        "id": "psEJ22jcWcn0",
        "outputId": "d9d76e46-9c94-41a7-aace-8357bf403ede"
      },
      "execution_count": 11,
      "outputs": [
        {
          "output_type": "stream",
          "name": "stdout",
          "text": [
            "[1 0 1 ... 1 1 0]\n"
          ]
        }
      ]
    },
    {
      "cell_type": "code",
      "source": [
        "from sklearn.model_selection import train_test_split\n",
        "x_train, x_test, y_train, y_test = train_test_split(x, y, test_size = 0.2, random_state = 1)\n"
      ],
      "metadata": {
        "id": "1k1qYIOcmHSS"
      },
      "execution_count": 12,
      "outputs": []
    },
    {
      "cell_type": "code",
      "source": [
        "from sklearn.preprocessing import StandardScaler\n",
        "sc = StandardScaler()\n",
        "x_train[:, 5:] = sc.fit_transform(x_train[:, 5:])\n",
        "x_test[:, 5:] = sc.transform(x_test[:, 5:])"
      ],
      "metadata": {
        "id": "QLU0zIUlDMNd"
      },
      "execution_count": 13,
      "outputs": []
    },
    {
      "cell_type": "code",
      "source": [
        "print(x_test)"
      ],
      "metadata": {
        "colab": {
          "base_uri": "https://localhost:8080/"
        },
        "id": "EgV1MFy3G0HN",
        "outputId": "fc5ada46-ea06-4f4a-cdb1-b5ec5d3ecb9f"
      },
      "execution_count": 14,
      "outputs": [
        {
          "output_type": "stream",
          "name": "stdout",
          "text": [
            "[[0.0 0.0 0.0 ... 0.0015531839802429147 -0.15524466268660686\n",
            "  -0.35133197325386173]\n",
            " [0.0 0.0 0.0 ... 0.0015531839802429147 -0.18535897077313954\n",
            "  1.2932823048215825]\n",
            " [0.0 1.0 0.0 ... 0.5183844422245794 -0.18535897077313954\n",
            "  -0.853853002665803]\n",
            " ...\n",
            " [0.0 1.0 0.0 ... 0.8776745799547697 -0.15524466268660686\n",
            "  0.1816448761224396]\n",
            " [0.0 1.0 0.0 ... -0.1669282278904132 -0.15524466268660686\n",
            "  -0.26757846835187155]\n",
            " [0.0 0.0 0.0 ... -0.5794465341732244 2.886300454053193\n",
            "  1.1943008899374121]]\n"
          ]
        }
      ]
    },
    {
      "cell_type": "code",
      "source": [
        "from sklearn.tree import DecisionTreeClassifier\n",
        "classifier = DecisionTreeClassifier(criterion = 'entropy', random_state = 0)\n",
        "classifier.fit(x_train, y_train)"
      ],
      "metadata": {
        "colab": {
          "base_uri": "https://localhost:8080/",
          "height": 75
        },
        "id": "ILGaVDYhHD4G",
        "outputId": "4b8e5e2f-4806-43a8-9ff4-faf0ec851334"
      },
      "execution_count": 15,
      "outputs": [
        {
          "output_type": "execute_result",
          "data": {
            "text/plain": [
              "DecisionTreeClassifier(criterion='entropy', random_state=0)"
            ],
            "text/html": [
              "<style>#sk-container-id-1 {color: black;background-color: white;}#sk-container-id-1 pre{padding: 0;}#sk-container-id-1 div.sk-toggleable {background-color: white;}#sk-container-id-1 label.sk-toggleable__label {cursor: pointer;display: block;width: 100%;margin-bottom: 0;padding: 0.3em;box-sizing: border-box;text-align: center;}#sk-container-id-1 label.sk-toggleable__label-arrow:before {content: \"▸\";float: left;margin-right: 0.25em;color: #696969;}#sk-container-id-1 label.sk-toggleable__label-arrow:hover:before {color: black;}#sk-container-id-1 div.sk-estimator:hover label.sk-toggleable__label-arrow:before {color: black;}#sk-container-id-1 div.sk-toggleable__content {max-height: 0;max-width: 0;overflow: hidden;text-align: left;background-color: #f0f8ff;}#sk-container-id-1 div.sk-toggleable__content pre {margin: 0.2em;color: black;border-radius: 0.25em;background-color: #f0f8ff;}#sk-container-id-1 input.sk-toggleable__control:checked~div.sk-toggleable__content {max-height: 200px;max-width: 100%;overflow: auto;}#sk-container-id-1 input.sk-toggleable__control:checked~label.sk-toggleable__label-arrow:before {content: \"▾\";}#sk-container-id-1 div.sk-estimator input.sk-toggleable__control:checked~label.sk-toggleable__label {background-color: #d4ebff;}#sk-container-id-1 div.sk-label input.sk-toggleable__control:checked~label.sk-toggleable__label {background-color: #d4ebff;}#sk-container-id-1 input.sk-hidden--visually {border: 0;clip: rect(1px 1px 1px 1px);clip: rect(1px, 1px, 1px, 1px);height: 1px;margin: -1px;overflow: hidden;padding: 0;position: absolute;width: 1px;}#sk-container-id-1 div.sk-estimator {font-family: monospace;background-color: #f0f8ff;border: 1px dotted black;border-radius: 0.25em;box-sizing: border-box;margin-bottom: 0.5em;}#sk-container-id-1 div.sk-estimator:hover {background-color: #d4ebff;}#sk-container-id-1 div.sk-parallel-item::after {content: \"\";width: 100%;border-bottom: 1px solid gray;flex-grow: 1;}#sk-container-id-1 div.sk-label:hover label.sk-toggleable__label {background-color: #d4ebff;}#sk-container-id-1 div.sk-serial::before {content: \"\";position: absolute;border-left: 1px solid gray;box-sizing: border-box;top: 0;bottom: 0;left: 50%;z-index: 0;}#sk-container-id-1 div.sk-serial {display: flex;flex-direction: column;align-items: center;background-color: white;padding-right: 0.2em;padding-left: 0.2em;position: relative;}#sk-container-id-1 div.sk-item {position: relative;z-index: 1;}#sk-container-id-1 div.sk-parallel {display: flex;align-items: stretch;justify-content: center;background-color: white;position: relative;}#sk-container-id-1 div.sk-item::before, #sk-container-id-1 div.sk-parallel-item::before {content: \"\";position: absolute;border-left: 1px solid gray;box-sizing: border-box;top: 0;bottom: 0;left: 50%;z-index: -1;}#sk-container-id-1 div.sk-parallel-item {display: flex;flex-direction: column;z-index: 1;position: relative;background-color: white;}#sk-container-id-1 div.sk-parallel-item:first-child::after {align-self: flex-end;width: 50%;}#sk-container-id-1 div.sk-parallel-item:last-child::after {align-self: flex-start;width: 50%;}#sk-container-id-1 div.sk-parallel-item:only-child::after {width: 0;}#sk-container-id-1 div.sk-dashed-wrapped {border: 1px dashed gray;margin: 0 0.4em 0.5em 0.4em;box-sizing: border-box;padding-bottom: 0.4em;background-color: white;}#sk-container-id-1 div.sk-label label {font-family: monospace;font-weight: bold;display: inline-block;line-height: 1.2em;}#sk-container-id-1 div.sk-label-container {text-align: center;}#sk-container-id-1 div.sk-container {/* jupyter's `normalize.less` sets `[hidden] { display: none; }` but bootstrap.min.css set `[hidden] { display: none !important; }` so we also need the `!important` here to be able to override the default hidden behavior on the sphinx rendered scikit-learn.org. See: https://github.com/scikit-learn/scikit-learn/issues/21755 */display: inline-block !important;position: relative;}#sk-container-id-1 div.sk-text-repr-fallback {display: none;}</style><div id=\"sk-container-id-1\" class=\"sk-top-container\"><div class=\"sk-text-repr-fallback\"><pre>DecisionTreeClassifier(criterion=&#x27;entropy&#x27;, random_state=0)</pre><b>In a Jupyter environment, please rerun this cell to show the HTML representation or trust the notebook. <br />On GitHub, the HTML representation is unable to render, please try loading this page with nbviewer.org.</b></div><div class=\"sk-container\" hidden><div class=\"sk-item\"><div class=\"sk-estimator sk-toggleable\"><input class=\"sk-toggleable__control sk-hidden--visually\" id=\"sk-estimator-id-1\" type=\"checkbox\" checked><label for=\"sk-estimator-id-1\" class=\"sk-toggleable__label sk-toggleable__label-arrow\">DecisionTreeClassifier</label><div class=\"sk-toggleable__content\"><pre>DecisionTreeClassifier(criterion=&#x27;entropy&#x27;, random_state=0)</pre></div></div></div></div></div>"
            ]
          },
          "metadata": {},
          "execution_count": 15
        }
      ]
    }
  ]
}